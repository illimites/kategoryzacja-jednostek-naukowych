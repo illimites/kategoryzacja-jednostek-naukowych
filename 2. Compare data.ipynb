{
 "cells": [
  {
   "cell_type": "code",
   "execution_count": 73,
   "metadata": {},
   "outputs": [],
   "source": [
    "import pandas as pd"
   ]
  },
  {
   "cell_type": "code",
   "execution_count": 163,
   "metadata": {},
   "outputs": [],
   "source": [
    "%matplotlib inline"
   ]
  },
  {
   "cell_type": "code",
   "execution_count": 74,
   "metadata": {},
   "outputs": [],
   "source": [
    "df2013 = pd.read_excel('./wszystkiejednostki.xlsx', header = [1])\n",
    "df2013 = df2013[~(df2013['Nazwa jednostki'].isnull())].set_index('Nazwa jednostki')\n",
    "del df2013.index.name"
   ]
  },
  {
   "cell_type": "code",
   "execution_count": 75,
   "metadata": {},
   "outputs": [],
   "source": [
    "df2017 = pd.read_excel('./ca19d390d520ad9a37d6f2ba7c8499e4.xlsx')\n",
    "df2017 = df2017[~(df2017['Instytucja'].isnull())].set_index('Instytucja')\n",
    "del df2017.index.name"
   ]
  },
  {
   "cell_type": "code",
   "execution_count": 76,
   "metadata": {},
   "outputs": [],
   "source": [
    "both = []\n",
    "for x in df2017.index:\n",
    "    if x in df2013.index:\n",
    "        both.append(x)"
   ]
  },
  {
   "cell_type": "code",
   "execution_count": 90,
   "metadata": {},
   "outputs": [],
   "source": [
    "idx2017 = [(x.replace('\\n', ' ').strip().lower(), x) for x in df2017.index]\n",
    "idx2013 = [(x.replace('\\n', ' ').strip().lower(), x) for x in df2013.index]\n",
    "len(set(idx2013))==len(idx2013), len(set(idx2017))==len(idx2017)\n",
    "idx2017 = dict(idx2017)\n",
    "idx2013 = dict(idx2013)"
   ]
  },
  {
   "cell_type": "code",
   "execution_count": 144,
   "metadata": {},
   "outputs": [],
   "source": [
    "rev_idx2017 = {v: k for k,v in idx2017.items()}\n",
    "rev_idx2013 = {v: k for k,v in idx2013.items()}"
   ]
  },
  {
   "cell_type": "code",
   "execution_count": 126,
   "metadata": {},
   "outputs": [],
   "source": [
    "common_keys = sorted(set(idx2013).intersection(set(idx2017)))"
   ]
  },
  {
   "cell_type": "code",
   "execution_count": 129,
   "metadata": {},
   "outputs": [],
   "source": [
    "common_2013 = [idx2013[k] for k in common_keys]\n",
    "common_2017 = [idx2017[k] for k in common_keys]"
   ]
  },
  {
   "cell_type": "code",
   "execution_count": 130,
   "metadata": {},
   "outputs": [
    {
     "data": {
      "text/plain": [
       "('Akademia Górniczo-Hutnicza im. Stanisława Staszica w Krakowie; Wydział\\nEnergetyki i Paliw',\n",
       " 'Akademia Górniczo-Hutnicza im. Stanisława Staszica w Krakowie; Wydział Energetyki i Paliw')"
      ]
     },
     "execution_count": 130,
     "metadata": {},
     "output_type": "execute_result"
    }
   ],
   "source": [
    "common_2013[1], common_2017[1]"
   ]
  },
  {
   "cell_type": "code",
   "execution_count": 173,
   "metadata": {},
   "outputs": [],
   "source": [
    "columns = ['Osiągnięcia naukowe i twórcze',\n",
    "'Potencjał naukowy',\n",
    "'Praktyczne efekty działalności naukowej i artystycznej',\n",
    "'Pozostałe efekty działalności naukowej i artystycznej',\n",
    "'Kategoria']"
   ]
  },
  {
   "cell_type": "code",
   "execution_count": 174,
   "metadata": {},
   "outputs": [],
   "source": [
    "data2017 = df2017.loc[common_2017].iloc[:,3:8].copy()\n",
    "data2017.index = [rev_idx2017[k] for k in data2017.index]\n",
    "data2017.columns=columns"
   ]
  },
  {
   "cell_type": "code",
   "execution_count": 179,
   "metadata": {
    "scrolled": false
   },
   "outputs": [],
   "source": [
    "data2013 = df2013.loc[common_2013].iloc[:,[3,4,5,6,-1]].copy()\n",
    "data2013.index = [rev_idx2013[k] for k in data2013.index]\n",
    "data2013.columns=columns"
   ]
  },
  {
   "cell_type": "code",
   "execution_count": 149,
   "metadata": {},
   "outputs": [],
   "source": [
    "delta = data2017-data2013"
   ]
  },
  {
   "cell_type": "code",
   "execution_count": 186,
   "metadata": {},
   "outputs": [],
   "source": [
    "sizes = {'A': 16, 'A+': 20, 'B': 12, 'C': 8}"
   ]
  },
  {
   "cell_type": "code",
   "execution_count": 182,
   "metadata": {},
   "outputs": [],
   "source": [
    "colors = {'A': '#fc8d62', 'A+': '#66c2a5', 'B': '#8da0cb', 'C': '#e78ac3'}"
   ]
  },
  {
   "cell_type": "code",
   "execution_count": 233,
   "metadata": {},
   "outputs": [],
   "source": [
    "from itertools import combinations, combinations_with_replacement"
   ]
  },
  {
   "cell_type": "code",
   "execution_count": 155,
   "metadata": {},
   "outputs": [],
   "source": [
    "kombinacje = list(combinations(delta.columns, 2))"
   ]
  },
  {
   "cell_type": "code",
   "execution_count": 187,
   "metadata": {},
   "outputs": [],
   "source": [
    "kolory2017=data2017['Kategoria'].apply(lambda x: colors[x])\n",
    "rozmiary2013=data2013['Kategoria'].apply(lambda x: sizes[x])"
   ]
  },
  {
   "cell_type": "code",
   "execution_count": 201,
   "metadata": {},
   "outputs": [],
   "source": [
    "from IPython.display import display,HTML\n",
    "from plotly import __version__\n",
    "import plotly.plotly as py\n",
    "import plotly.graph_objs as go\n",
    "from plotly.offline import download_plotlyjs, init_notebook_mode, plot, iplot"
   ]
  },
  {
   "cell_type": "code",
   "execution_count": 202,
   "metadata": {},
   "outputs": [
    {
     "data": {
      "text/html": [
       "<script>requirejs.config({paths: { 'plotly': ['https://cdn.plot.ly/plotly-latest.min']},});if(!window.Plotly) {{require(['plotly'],function(plotly) {window.Plotly=plotly;});}}</script>"
      ],
      "text/vnd.plotly.v1+html": [
       "<script>requirejs.config({paths: { 'plotly': ['https://cdn.plot.ly/plotly-latest.min']},});if(!window.Plotly) {{require(['plotly'],function(plotly) {window.Plotly=plotly;});}}</script>"
      ]
     },
     "metadata": {},
     "output_type": "display_data"
    }
   ],
   "source": [
    "init_notebook_mode(connected=True)"
   ]
  },
  {
   "cell_type": "code",
   "execution_count": 234,
   "metadata": {},
   "outputs": [
    {
     "data": {
      "text/plain": [
       "[('C', 'C'),\n",
       " ('C', 'A+'),\n",
       " ('C', 'B'),\n",
       " ('C', 'A'),\n",
       " ('A+', 'A+'),\n",
       " ('A+', 'B'),\n",
       " ('A+', 'A'),\n",
       " ('B', 'B'),\n",
       " ('B', 'A'),\n",
       " ('A', 'A')]"
      ]
     },
     "execution_count": 234,
     "metadata": {},
     "output_type": "execute_result"
    }
   ],
   "source": [
    "list(combinations_with_replacement(factors.keys() , 2))"
   ]
  },
  {
   "cell_type": "code",
   "execution_count": 266,
   "metadata": {},
   "outputs": [],
   "source": [
    "!mkdir delta_per_category"
   ]
  },
  {
   "cell_type": "code",
   "execution_count": 293,
   "metadata": {
    "scrolled": false
   },
   "outputs": [],
   "source": [
    "for k in kombinacje:\n",
    "    komb=list(k)\n",
    "    all_traces = []\n",
    "\n",
    "    layout= go.Layout(\n",
    "        title= 'Δ oceny parametrycznej 2017-2013',\n",
    "        hovermode= 'closest',\n",
    "        xaxis= dict(\n",
    "            title= komb[0],\n",
    "            ticklen= 5,\n",
    "            gridwidth= 2,\n",
    "        ),\n",
    "        yaxis=dict(\n",
    "            title= komb[1],\n",
    "            ticklen= 5,\n",
    "            gridwidth= 2,\n",
    "        ),\n",
    "        showlegend= True\n",
    "    )\n",
    "\n",
    "    for kategoria_in_2013 in ['A+', 'A', 'B', 'C']:\n",
    "        for kategoria_in_2017 in ['A+', 'A', 'B', 'C']:\n",
    "            index_kat2013 = data2013[data2013['Kategoria']==kategoria_in_2013].index.tolist()\n",
    "            index_kat = [x for x in data2017[data2017['Kategoria']==kategoria_in_2017].index.tolist() if x in index_kat2013]\n",
    "\n",
    "            trace = go.Scatter(\n",
    "                x = delta.loc[index_kat,komb[0]].tolist(),\n",
    "                y = delta.loc[index_kat,komb[1]].tolist(),\n",
    "                name = \"{}->{}\".format(kategoria_in_2013,kategoria_in_2017),\n",
    "                text=index_kat,\n",
    "                marker = dict(\n",
    "                    size = sizes[kategoria_in_2013],\n",
    "                    color = colors[kategoria_in_2017],\n",
    "                ),\n",
    "                mode = 'markers',\n",
    "            )\n",
    "            all_traces.append(trace)\n",
    "\n",
    "    plot(go.Figure(data=all_traces, layout=layout), filename=\"./delta_per_category/{}-{}.html\".format(komb[0], komb[1]), auto_open=False)\n",
    "    #plot(go.Figure(data=all_traces, layout=layout), image_filename=\"{}-{}.png\".format(komb[0], komb[1]), image='png')"
   ]
  },
  {
   "cell_type": "code",
   "execution_count": null,
   "metadata": {},
   "outputs": [],
   "source": []
  },
  {
   "cell_type": "code",
   "execution_count": 279,
   "metadata": {},
   "outputs": [],
   "source": [
    "perc = data2017['Kategoria'].value_counts()/df2017['Kategoria ostateczna'].value_counts()"
   ]
  },
  {
   "cell_type": "code",
   "execution_count": 280,
   "metadata": {},
   "outputs": [
    {
     "data": {
      "text/plain": [
       "B     0.802998\n",
       "A     0.912651\n",
       "C     0.578231\n",
       "A+    0.936170\n",
       "dtype: float64"
      ]
     },
     "execution_count": 280,
     "metadata": {},
     "output_type": "execute_result"
    }
   ],
   "source": [
    "perc"
   ]
  },
  {
   "cell_type": "code",
   "execution_count": 281,
   "metadata": {},
   "outputs": [
    {
     "data": {
      "text/plain": [
       "B     375\n",
       "A     303\n",
       "C      85\n",
       "A+     44\n",
       "Name: Kategoria, dtype: int64"
      ]
     },
     "execution_count": 281,
     "metadata": {},
     "output_type": "execute_result"
    }
   ],
   "source": [
    "data2017['Kategoria'].value_counts()"
   ]
  },
  {
   "cell_type": "code",
   "execution_count": null,
   "metadata": {},
   "outputs": [],
   "source": []
  }
 ],
 "metadata": {
  "kernelspec": {
   "display_name": "Python 3",
   "language": "python",
   "name": "python3"
  },
  "language_info": {
   "codemirror_mode": {
    "name": "ipython",
    "version": 3
   },
   "file_extension": ".py",
   "mimetype": "text/x-python",
   "name": "python",
   "nbconvert_exporter": "python",
   "pygments_lexer": "ipython3",
   "version": "3.5.2+"
  }
 },
 "nbformat": 4,
 "nbformat_minor": 2
}
